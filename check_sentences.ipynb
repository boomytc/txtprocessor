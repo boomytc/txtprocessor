{
 "cells": [
  {
   "cell_type": "code",
   "execution_count": null,
   "metadata": {},
   "outputs": [],
   "source": [
    "import os\n",
    "import subprocess\n",
    "\n",
    "\n",
    "# 使用Llama 3.2模型检查句子\n",
    "def check_with_llama(sentence):\n",
    "    result = subprocess.run(\n",
    "        [\"ollama\", \"run\", \"llama3.2\", \"--input\", sentence],\n",
    "        stdout=subprocess.PIPE, stderr=subprocess.PIPE\n",
    "    )\n",
    "    return result.stdout.decode('utf-8')\n",
    "\n",
    "\n",
    "# 保存修改后的句子\n",
    "def save_to_file(text, output_dir, filename):\n",
    "    os.makedirs(output_dir, exist_ok=True)\n",
    "    with open(os.path.join(output_dir, filename), \"w\", encoding=\"utf-8\") as f:\n",
    "        f.write(text)\n",
    "\n",
    "\n",
    "# 检查并修改句子\n",
    "def check_and_save(input_dir, output_dir):\n",
    "    file_count = 0\n",
    "    for sub_dir in os.listdir(input_dir):\n",
    "        sub_dir_path = os.path.join(input_dir, sub_dir)\n",
    "        if os.path.isdir(sub_dir_path):\n",
    "            file_count += 1\n",
    "            final_dir = os.path.join(output_dir, sub_dir)\n",
    "            os.makedirs(final_dir, exist_ok=True)\n",
    "            \n",
    "            for filename in os.listdir(sub_dir_path):\n",
    "                if filename.endswith(\".txt\"):\n",
    "                    file_path = os.path.join(sub_dir_path, filename)\n",
    "                    with open(file_path, \"r\", encoding=\"utf-8\") as f:\n",
    "                        sentence = f.read()\n",
    "                    \n",
    "                    # 使用Llama模型检查句子\n",
    "                    response = check_with_llama(sentence)\n",
    "                    if \"ungrammatical\" in response:  # 如果返回语法错误\n",
    "                        corrected_sentence = \"Corrected: \" + sentence\n",
    "                    else:\n",
    "                        corrected_sentence = sentence\n",
    "                    \n",
    "                    save_to_file(corrected_sentence, final_dir, filename)\n",
    "    print(f\"语法检查完成，共处理 {file_count} 个文件夹。\")\n",
    "\n",
    "\n",
    "# 主程序\n",
    "if __name__ == \"__main__\":\n",
    "    input_directory = \"path/to/output/split_output\"  # 输入分句后的文件夹路径\n",
    "    output_directory = \"path/to/output/final_split_output\"  # 输出修改后的文件夹路径\n",
    "    check_and_save(input_directory, output_directory)\n"
   ]
  }
 ],
 "metadata": {
  "kernelspec": {
   "display_name": "txtprocessor",
   "language": "python",
   "name": "python3"
  },
  "language_info": {
   "name": "python",
   "version": "3.12.7"
  }
 },
 "nbformat": 4,
 "nbformat_minor": 2
}
