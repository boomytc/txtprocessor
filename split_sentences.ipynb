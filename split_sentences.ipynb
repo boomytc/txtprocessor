{
 "cells": [
  {
   "cell_type": "code",
   "execution_count": null,
   "metadata": {},
   "outputs": [],
   "source": [
    "import os\n",
    "import jieba\n",
    "\n",
    "\n",
    "# 使用jieba进行中文分句\n",
    "def split_sentences(text):\n",
    "    sentences = []\n",
    "    words = jieba.cut(text)\n",
    "    sentence = []\n",
    "    for word in words:\n",
    "        sentence.append(word)\n",
    "        if word in [\"。\", \"！\", \"？\"]:  # 判断句子的结尾符号\n",
    "            sentences.append(\"\".join(sentence))\n",
    "            sentence = []\n",
    "    if sentence:\n",
    "        sentences.append(\"\".join(sentence))\n",
    "    return sentences\n",
    "\n",
    "\n",
    "# 保存分句后的文本\n",
    "def save_to_file(text, output_dir, filename):\n",
    "    os.makedirs(output_dir, exist_ok=True)\n",
    "    with open(os.path.join(output_dir, filename), \"w\", encoding=\"utf-8\") as f:\n",
    "        f.write(text)\n",
    "\n",
    "\n",
    "# 分句并保存\n",
    "def split_and_save(input_dir, output_dir):\n",
    "    file_count = 0\n",
    "    for filename in os.listdir(input_dir):\n",
    "        if filename.endswith(\".txt\"):\n",
    "            file_count += 1\n",
    "            file_path = os.path.join(input_dir, filename)\n",
    "            with open(file_path, \"r\", encoding=\"utf-8\") as f:\n",
    "                text = f.read()\n",
    "            \n",
    "            sentences = split_sentences(text)\n",
    "            \n",
    "            # 创建子目录来存放分句后的文件\n",
    "            split_dir = os.path.join(output_dir, f\"{file_count}\")\n",
    "            os.makedirs(split_dir, exist_ok=True)\n",
    "            \n",
    "            # 按顺序保存每个句子\n",
    "            for idx, sentence in enumerate(sentences, start=1):\n",
    "                save_to_file(sentence, split_dir, f\"{file_count}-{idx}.txt\")\n",
    "    print(f\"分句完成，共处理 {file_count} 个文件。\")\n",
    "\n",
    "\n",
    "# 主程序\n",
    "if __name__ == \"__main__\":\n",
    "    input_directory = \"path/to/output/puredoc_output\"  # 输入纯文本文件夹路径\n",
    "    output_directory = \"path/to/output/split_output\"  # 输出分句文件夹路径\n",
    "    split_and_save(input_directory, output_directory)\n"
   ]
  }
 ],
 "metadata": {
  "kernelspec": {
   "display_name": "txtprocessor",
   "language": "python",
   "name": "python3"
  },
  "language_info": {
   "name": "python",
   "version": "3.12.7"
  }
 },
 "nbformat": 4,
 "nbformat_minor": 2
}
