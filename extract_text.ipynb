{
 "cells": [
  {
   "cell_type": "code",
   "execution_count": null,
   "metadata": {},
   "outputs": [],
   "source": [
    "import os\n",
    "from PyPDF2 import PdfReader\n",
    "from docx import Document\n",
    "\n",
    "# 提取PDF内容\n",
    "def extract_text_from_pdf(file_path):\n",
    "    text = \"\"\n",
    "    with open(file_path, 'rb') as f:\n",
    "        reader = PdfReader(f)\n",
    "        for page in reader.pages:\n",
    "            text += page.extract_text()\n",
    "    return text\n",
    "\n",
    "\n",
    "# 提取DOCX内容\n",
    "def extract_text_from_docx(file_path):\n",
    "    text = \"\"\n",
    "    doc = Document(file_path)\n",
    "    for para in doc.paragraphs:\n",
    "        text += para.text + '\\n'\n",
    "    return text\n",
    "\n",
    "\n",
    "# 保存提取的纯文本内容\n",
    "def save_to_file(text, output_dir, filename):\n",
    "    os.makedirs(output_dir, exist_ok=True)\n",
    "    with open(os.path.join(output_dir, filename), \"w\", encoding=\"utf-8\") as f:\n",
    "        f.write(text)\n",
    "\n",
    "\n",
    "# 提取并保存PDF和DOCX中的文本\n",
    "def extract_and_save(input_dir, output_dir):\n",
    "    file_count = 0\n",
    "    for filename in os.listdir(input_dir):\n",
    "        if filename.endswith(\".pdf\") or filename.endswith(\".docx\"):\n",
    "            file_count += 1\n",
    "            file_path = os.path.join(input_dir, filename)\n",
    "            if filename.endswith(\".pdf\"):\n",
    "                text = extract_text_from_pdf(file_path)\n",
    "            elif filename.endswith(\".docx\"):\n",
    "                text = extract_text_from_docx(file_path)\n",
    "            \n",
    "            # 保存提取的文本\n",
    "            save_to_file(text, output_dir, f\"{file_count}.txt\")\n",
    "    print(f\"提取完成，共处理 {file_count} 个文件。\")\n",
    "\n",
    "\n",
    "# 主程序\n",
    "if __name__ == \"__main__\":\n",
    "    input_directory = \"path/to/input\"  # 输入文件夹路径\n",
    "    output_directory = \"path/to/output/puredoc_output\"  # 输出文件夹路径\n",
    "    extract_and_save(input_directory, output_directory)\n"
   ]
  }
 ],
 "metadata": {
  "kernelspec": {
   "display_name": "txtprocessor",
   "language": "python",
   "name": "python3"
  },
  "language_info": {
   "name": "python",
   "version": "3.12.7"
  }
 },
 "nbformat": 4,
 "nbformat_minor": 2
}
